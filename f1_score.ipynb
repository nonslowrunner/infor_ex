{
 "metadata": {
  "language_info": {
   "codemirror_mode": {
    "name": "ipython",
    "version": 3
   },
   "file_extension": ".py",
   "mimetype": "text/x-python",
   "name": "python",
   "nbconvert_exporter": "python",
   "pygments_lexer": "ipython3",
   "version": "3.7.10"
  },
  "orig_nbformat": 2,
  "kernelspec": {
   "name": "python3",
   "display_name": "Python 3.7.10 64-bit",
   "metadata": {
    "interpreter": {
     "hash": "87c28869b898441103b426c205eae5d93c3b5437cf190ab9f75a2e94022cef8b"
    }
   }
  }
 },
 "nbformat": 4,
 "nbformat_minor": 2,
 "cells": [
  {
   "cell_type": "code",
   "execution_count": 27,
   "metadata": {},
   "outputs": [],
   "source": [
    "from transformers import AutoModelForTokenClassification, TrainingArguments, Trainer , CamembertForTokenClassification , TFAutoModelForTokenClassification , pipeline  , TFCamembertForTokenClassification , CamembertTokenizer\n",
    "    \n",
    "\n",
    "import re\n",
    "\n",
    "from thai2transformers.tokenizers import (\n",
    "    ThaiRobertaTokenizer, ThaiWordsNewmmTokenizer)"
   ]
  },
  {
   "cell_type": "code",
   "execution_count": 43,
   "metadata": {},
   "outputs": [
    {
     "output_type": "stream",
     "name": "stderr",
     "text": [
      "Some layers from the model checkpoint at ./fine_tune/finetuned-ner-tf_test were not used when initializing TFCamembertForTokenClassification: ['dropout_264']\n",
      "- This IS expected if you are initializing TFCamembertForTokenClassification from the checkpoint of a model trained on another task or with another architecture (e.g. initializing a BertForSequenceClassification model from a BertForPreTraining model).\n",
      "- This IS NOT expected if you are initializing TFCamembertForTokenClassification from the checkpoint of a model that you expect to be exactly identical (initializing a BertForSequenceClassification model from a BertForSequenceClassification model).\n",
      "Some layers of TFCamembertForTokenClassification were not initialized from the model checkpoint at ./fine_tune/finetuned-ner-tf_test and are newly initialized: ['dropout_189']\n",
      "You should probably TRAIN this model on a down-stream task to be able to use it for predictions and inference.\n",
      "Some layers from the model checkpoint at ./fine_tune/finetuned-ner-tf_test were not used when initializing TFCamembertForTokenClassification: ['dropout_264']\n",
      "- This IS expected if you are initializing TFCamembertForTokenClassification from the checkpoint of a model trained on another task or with another architecture (e.g. initializing a BertForSequenceClassification model from a BertForPreTraining model).\n",
      "- This IS NOT expected if you are initializing TFCamembertForTokenClassification from the checkpoint of a model that you expect to be exactly identical (initializing a BertForSequenceClassification model from a BertForSequenceClassification model).\n",
      "Some layers of TFCamembertForTokenClassification were not initialized from the model checkpoint at ./fine_tune/finetuned-ner-tf_test and are newly initialized: ['dropout_227']\n",
      "You should probably TRAIN this model on a down-stream task to be able to use it for predictions and inference.\n"
     ]
    }
   ],
   "source": [
    "tokenizer_wc = CamembertTokenizer.from_pretrained('./fine_tune/finetuned-ner-tf_test')\n",
    "\n",
    "ner_wc = pipeline(task='ner',\n",
    "         tokenizer= tokenizer_wc,\n",
    "         model = TFAutoModelForTokenClassification.from_pretrained('./fine_tune/finetuned-ner-tf_test'),\n",
    "         ignore_labels=[], \n",
    "         grouped_entities=True)\n",
    "\n",
    "ner_wc_ng = pipeline(task='ner',\n",
    "tokenizer= tokenizer_wc,\n",
    "model = TFAutoModelForTokenClassification.from_pretrained('./fine_tune/finetuned-ner-tf_test'),\n",
    "ignore_labels=[], \n",
    "grouped_entities=False)\n"
   ]
  },
  {
   "cell_type": "code",
   "execution_count": 44,
   "metadata": {},
   "outputs": [],
   "source": [
    "tokenizer = ThaiWordsNewmmTokenizer.from_pretrained('./fine_tune/wangchanberta-base-wiki-newmm')\n",
    "\n",
    "ner_st = pipeline(task='ner',\n",
    "         tokenizer= tokenizer,\n",
    "         model = CamembertForTokenClassification.from_pretrained('./fine_tune/finetune_ner_newmm_thainer'),\n",
    "         ignore_labels=[], \n",
    "         grouped_entities=True)\n",
    "\n",
    "ner_st_ng = pipeline(task='ner',\n",
    "         tokenizer= tokenizer,\n",
    "         model = CamembertForTokenClassification.from_pretrained('./fine_tune/finetune_ner_newmm_thainer'),\n",
    "         ignore_labels=[], \n",
    "         grouped_entities=False)\n",
    "\n",
    "\n"
   ]
  },
  {
   "cell_type": "code",
   "execution_count": 15,
   "metadata": {},
   "outputs": [],
   "source": [
    "from seqeval.metrics import accuracy_score\n",
    "from seqeval.metrics import classification_report\n",
    "from seqeval.metrics import f1_score"
   ]
  },
  {
   "cell_type": "code",
   "execution_count": 16,
   "metadata": {},
   "outputs": [],
   "source": [
    "y_true = [['O', 'O', 'O', 'B-MISC', 'I-MISC', 'I-MISC', 'O'], ['B-PER', 'I-PER', 'O']]\n",
    "y_pred = [['O', 'O', 'B-MISC', 'I-MISC', 'I-MISC', 'I-MISC', 'O'], ['B-PER', 'I-PER', 'O']]"
   ]
  },
  {
   "cell_type": "code",
   "execution_count": 17,
   "metadata": {},
   "outputs": [
    {
     "output_type": "execute_result",
     "data": {
      "text/plain": [
       "0.5"
      ]
     },
     "metadata": {},
     "execution_count": 17
    }
   ],
   "source": [
    "f1_score(y_true, y_pred)"
   ]
  },
  {
   "cell_type": "code",
   "execution_count": 7,
   "metadata": {},
   "outputs": [
    {
     "output_type": "stream",
     "name": "stderr",
     "text": [
      "Downloading: 5.09kB [00:00, 914kB/s]                    \n",
      "Downloading: 2.89kB [00:00, 1.02MB/s]                   \n",
      "Downloading and preparing dataset thainer/thainer (download: 5.20 MiB, generated: 7.74 MiB, post-processed: Unknown size, total: 12.95 MiB) to /Users/chanon/.cache/huggingface/datasets/thainer/thainer/1.3.0/2e78d40dbb97228eca897367a8e1eff7b57f790909ad331edbb12a3484476ba6...\n",
      "Dataset thainer downloaded and prepared to /Users/chanon/.cache/huggingface/datasets/thainer/thainer/1.3.0/2e78d40dbb97228eca897367a8e1eff7b57f790909ad331edbb12a3484476ba6. Subsequent calls will reuse this data.\n",
      "100%|██████████| 6348/6348 [00:02<00:00, 2437.56ex/s]\n"
     ]
    }
   ],
   "source": [
    "from datasets import load_dataset\n",
    "\n",
    "dataset = load_dataset(\"thainer\")\n",
    "\n",
    "label_col = 'ner_tags'\n",
    "dataset['train'] = dataset['train'].map(\n",
    "lambda examples: {'ner_tags': [i if i not in [13, 26] else 27\n",
    "                                for i in examples[label_col]]}\n",
    ")\n",
    "label_maps = {i: name for i, name in\n",
    "      enumerate(dataset['train'].features[label_col].feature.names)}\n",
    "      \n",
    "label_names = dataset['train'].features[label_col].feature.names\n",
    "num_labels = dataset['train'].features[label_col].feature.num_classes"
   ]
  },
  {
   "cell_type": "code",
   "execution_count": 8,
   "metadata": {},
   "outputs": [
    {
     "output_type": "execute_result",
     "data": {
      "text/plain": [
       "DatasetDict({\n",
       "    train: Dataset({\n",
       "        features: ['id', 'ner_tags', 'pos_tags', 'tokens'],\n",
       "        num_rows: 6348\n",
       "    })\n",
       "})"
      ]
     },
     "metadata": {},
     "execution_count": 8
    }
   ],
   "source": [
    "dataset"
   ]
  },
  {
   "cell_type": "code",
   "execution_count": 54,
   "metadata": {},
   "outputs": [],
   "source": [
    "token_test = dataset['train'][50]['tokens']\n",
    "ner_test = dataset['train'][50]['ner_tags']"
   ]
  },
  {
   "cell_type": "code",
   "execution_count": 60,
   "metadata": {},
   "outputs": [],
   "source": [
    "st_tag = ner_st_ng(('').join(token_test))"
   ]
  },
  {
   "cell_type": "code",
   "execution_count": 59,
   "metadata": {},
   "outputs": [],
   "source": [
    "wc_tag = ner_wc_ng(('').join(token_test))"
   ]
  },
  {
   "cell_type": "code",
   "execution_count": null,
   "metadata": {},
   "outputs": [],
   "source": []
  }
 ]
}